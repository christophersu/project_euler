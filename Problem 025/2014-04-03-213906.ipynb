{
 "metadata": {
  "name": ""
 },
 "nbformat": 3,
 "nbformat_minor": 0,
 "worksheets": [
  {
   "cells": [
    {
     "cell_type": "code",
     "collapsed": false,
     "input": [
      "fib = [1, 1]\n",
      "i = 2;\n",
      "while(1):\n",
      "    fib.append(fib[i-1]+fib[i-2])\n",
      "    if len(str(fib[i])) == 1000:\n",
      "        break\n",
      "    else:\n",
      "        i += 1\n",
      "\n",
      "print(len(fib))"
     ],
     "language": "python",
     "metadata": {},
     "outputs": [
      {
       "output_type": "stream",
       "stream": "stdout",
       "text": [
        "4782\n"
       ]
      }
     ],
     "prompt_number": 7
    },
    {
     "cell_type": "code",
     "collapsed": false,
     "input": [],
     "language": "python",
     "metadata": {},
     "outputs": []
    }
   ],
   "metadata": {}
  }
 ]
}